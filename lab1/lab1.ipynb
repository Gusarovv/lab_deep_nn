{
 "cells": [
  {
   "cell_type": "code",
   "execution_count": 7,
   "metadata": {},
   "outputs": [
    {
     "name": "stdout",
     "output_type": "stream",
     "text": [
      "Обучение завершено, ошибок нет на итерации 1\n"
     ]
    },
    {
     "data": {
      "text/plain": [
       "array([0.])"
      ]
     },
     "execution_count": 7,
     "metadata": {},
     "output_type": "execute_result"
    }
   ],
   "source": [
    "import pandas as pd\n",
    "import matplotlib.pyplot as plt\n",
    "import numpy as np\n",
    "\n",
    "\n",
    "df = pd.read_csv('data.csv')\n",
    "df = df.iloc[np.random.permutation(len(df))]\n",
    "y = df.iloc[0:100, 4].values\n",
    "y = np.where(y == \"Iris-setosa\", 1, -1)\n",
    "X = df.iloc[0:100, [0, 2]].values\n",
    "\n",
    "\n",
    "inputSize = X.shape[1] # количество входных сигналов равно количеству признаков задачи \n",
    "hiddenSizes = 10 # задаем число нейронов скрытого (А) слоя \n",
    "outputSize = 1 if len(y.shape) else y.shape[1] # количество выходных сигналов равно количеству классов задачи\n",
    "\n",
    "\n",
    "# создаем матрицу весов скрытого слоя\n",
    "Win = np.zeros((1+inputSize,hiddenSizes)) \n",
    "# пороги w0 задаем случайными числами\n",
    "Win[0,:] = (np.random.randint(0, 3, size = (hiddenSizes))) \n",
    "# остальные веса  задаем случайно -1, 0 или 1 \n",
    "Win[1:,:] = (np.random.randint(-1, 2, size = (inputSize,hiddenSizes))) \n",
    "\n",
    "#Wout = np.zeros((1+hiddenSizes,outputSize))\n",
    "\n",
    "# случайно инициализируем веса выходного слоя\n",
    "Wout = np.random.randint(0, 2, size = (1+hiddenSizes,outputSize)).astype(np.float64)\n",
    "   \n",
    "# функция прямого прохода (предсказания) \n",
    "def predict(Xp):\n",
    "    # выходы первого слоя = входные сигналы * веса первого слоя\n",
    "    hidden_predict = np.where((np.dot(Xp, Win[1:,:]) + Win[0,:]) >= 0.0, 1, -1).astype(np.float64)\n",
    "    # выходы второго слоя = выходы первого слоя * веса второго слоя\n",
    "    out = np.where((np.dot(hidden_predict, Wout[1:,:]) + Wout[0,:]) >= 0.0, 1, -1).astype(np.float64)\n",
    "    return out, hidden_predict\n",
    "\n",
    "\n",
    "# обучение\n",
    "# у перцептрона Розенблата обучаются только веса выходного слоя \n",
    "# как и раньше обучаем подавая по одному примеру и корректируем веса в случае ошибки\n",
    "n_iter=1000\n",
    "eta = 0.01\n",
    "\n",
    "# переменные для сравнения весов и ошибок\n",
    "prev_Wout = None\n",
    "errors = []\n",
    "\n",
    "border_equal = 0\n",
    "\n",
    "for i in range(n_iter):\n",
    "    error_count = 0\n",
    "    for xi, target, j in zip(X, y, range(X.shape[0])):\n",
    "        pr, hidden = predict(xi) \n",
    "        error = target - pr\n",
    "        if error != 0:\n",
    "            error_count += 1\n",
    "        Wout[1:] += ((eta * error) * hidden).reshape(-1, 1)\n",
    "        Wout[0] += eta * error\n",
    "    \n",
    "    # условие остановки: ошибок нет\n",
    "    if error_count == 0:\n",
    "        print(f\"Обучение завершено, ошибок нет на итерации {i}\")\n",
    "        break\n",
    "\n",
    "    # условие остановки: веса не меняются\n",
    "    if np.array_equal(prev_Wout, Wout):\n",
    "        print(f\"Сходимость достигнута на итерации {i}\")\n",
    "        break\n",
    "\n",
    "\n",
    "    # сохраняем веса и количество ошибок для следующей итерации\n",
    "    prev_Wout = Wout.copy()\n",
    "    errors.append(error_count)\n",
    "\n",
    "# посчитаем сколько ошибок делаем на всей выборке\n",
    "y = df.iloc[:, 4].values\n",
    "y = np.where(y == \"Iris-setosa\", 1, -1)\n",
    "X = df.iloc[:, [0, 2]].values\n",
    "pr, hidden = predict(X)\n",
    "sum(pr-y.reshape(-1, 1))\n"
   ]
  },
  {
   "cell_type": "code",
   "execution_count": 8,
   "metadata": {},
   "outputs": [
    {
     "name": "stdout",
     "output_type": "stream",
     "text": [
      "[[-0.1]\n",
      " [-0.1]\n",
      " [ 0.9]\n",
      " [ 0.9]\n",
      " [ 1.1]\n",
      " [-0.1]\n",
      " [ 0.9]\n",
      " [ 1.1]\n",
      " [ 0.9]\n",
      " [ 0.1]\n",
      " [ 1.1]]\n",
      "[[-0.1]\n",
      " [-0.1]\n",
      " [ 0.9]\n",
      " [ 0.9]\n",
      " [ 1.1]\n",
      " [-0.1]\n",
      " [ 0.9]\n",
      " [ 1.1]\n",
      " [ 0.9]\n",
      " [ 0.1]\n",
      " [ 1.1]]\n"
     ]
    }
   ],
   "source": [
    "print(prev_Wout)\n",
    "print(Wout)\n"
   ]
  }
 ],
 "metadata": {
  "kernelspec": {
   "display_name": "Python 3",
   "language": "python",
   "name": "python3"
  },
  "language_info": {
   "codemirror_mode": {
    "name": "ipython",
    "version": 3
   },
   "file_extension": ".py",
   "mimetype": "text/x-python",
   "name": "python",
   "nbconvert_exporter": "python",
   "pygments_lexer": "ipython3",
   "version": "3.11.5"
  },
  "orig_nbformat": 4
 },
 "nbformat": 4,
 "nbformat_minor": 2
}
